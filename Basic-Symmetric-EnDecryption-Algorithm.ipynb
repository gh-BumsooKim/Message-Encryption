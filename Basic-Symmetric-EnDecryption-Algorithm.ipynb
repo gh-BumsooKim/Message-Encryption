{
 "cells": [
  {
   "cell_type": "markdown",
   "metadata": {},
   "source": [
    "# Basic Symmetric En/Decryption Algorithm\n",
    "<hr>"
   ]
  },
  {
   "cell_type": "markdown",
   "metadata": {},
   "source": [
    "### 대칭키 암호 방식 \n",
    "#### : 동일한 암호화키와 복호화키 사용"
   ]
  },
  {
   "cell_type": "code",
   "execution_count": 1,
   "metadata": {},
   "outputs": [],
   "source": [
    "from cryptography.fernet import Fernet"
   ]
  },
  {
   "cell_type": "code",
   "execution_count": 2,
   "metadata": {},
   "outputs": [],
   "source": [
    "class SimpleEnDecrypt:\n",
    "    def __init__(self, key=None):\n",
    "        if key is None:\n",
    "            key = Fernet.generate_key()\n",
    "        self.key = key\n",
    "        self.f   = Fernet(self.key)\n",
    "    \n",
    "    def encrypt(self, data, is_out_string=True):\n",
    "        if isinstance(data, bytes):\n",
    "            ou = self.f.encrypt(data)\n",
    "        else:\n",
    "            ou = self.f.encrypt(data.encode('utf-8'))\n",
    "        if is_out_string == True:\n",
    "            return ou.decode('utf-8')\n",
    "        else:\n",
    "            return ou\n",
    "        \n",
    "    def decrypt(self, data, is_out_string=True):\n",
    "        if isinstance(data, bytes):\n",
    "            ou = self.f.decrypt(data)\n",
    "        else:\n",
    "            ou = self.f.decrypt(data.encode('utf-8'))\n",
    "        if is_out_string == True:\n",
    "            return ou.decode('utf-8')\n",
    "        else:\n",
    "            return ou"
   ]
  },
  {
   "cell_type": "code",
   "execution_count": 3,
   "metadata": {},
   "outputs": [],
   "source": [
    "simpleEnDecrypt = SimpleEnDecrypt()"
   ]
  },
  {
   "cell_type": "code",
   "execution_count": 4,
   "metadata": {},
   "outputs": [
    {
     "data": {
      "text/plain": [
       "b'g4hWXZ_RN5nGCRfY0pP64n5pRZr_kic2oC1A0LOCP3I='"
      ]
     },
     "execution_count": 4,
     "metadata": {},
     "output_type": "execute_result"
    }
   ],
   "source": [
    "simpleEnDecrypt.key"
   ]
  },
  {
   "cell_type": "code",
   "execution_count": 5,
   "metadata": {},
   "outputs": [
    {
     "name": "stdout",
     "output_type": "stream",
     "text": [
      "Hello Encryption!\n"
     ]
    }
   ],
   "source": [
    "plain_text = input()"
   ]
  },
  {
   "cell_type": "code",
   "execution_count": 6,
   "metadata": {},
   "outputs": [
    {
     "name": "stdout",
     "output_type": "stream",
     "text": [
      "Hello Encryption!\n"
     ]
    }
   ],
   "source": [
    "print(plain_text)"
   ]
  },
  {
   "cell_type": "code",
   "execution_count": 7,
   "metadata": {},
   "outputs": [
    {
     "name": "stdout",
     "output_type": "stream",
     "text": [
      "gAAAAABfuNOeU0eCoOJkoWCihna9APk2M_jYvdIAU8D_cJdrmchu63ucp6OYrBNi9mqZVG57_tKiJ4DQd5x1TkjVpilIm3LVBKY_3nY1KcD2bDy1SH9X5NQ=\n"
     ]
    }
   ],
   "source": [
    "# 평문 암호화\n",
    "encrypt_text = simpleEnDecrypt.encrypt(plain_text)\n",
    "print(encrypt_text)"
   ]
  },
  {
   "cell_type": "code",
   "execution_count": 8,
   "metadata": {},
   "outputs": [
    {
     "name": "stdout",
     "output_type": "stream",
     "text": [
      "Hello Encryption!\n"
     ]
    }
   ],
   "source": [
    "# 암호문 복호화\n",
    "decrypt_text = simpleEnDecrypt.decrypt(encrypt_text)\n",
    "print(decrypt_text)"
   ]
  }
 ],
 "metadata": {
  "kernelspec": {
   "display_name": "Python 3",
   "language": "python",
   "name": "python3"
  },
  "language_info": {
   "codemirror_mode": {
    "name": "ipython",
    "version": 3
   },
   "file_extension": ".py",
   "mimetype": "text/x-python",
   "name": "python",
   "nbconvert_exporter": "python",
   "pygments_lexer": "ipython3",
   "version": "3.7.9"
  }
 },
 "nbformat": 4,
 "nbformat_minor": 4
}
